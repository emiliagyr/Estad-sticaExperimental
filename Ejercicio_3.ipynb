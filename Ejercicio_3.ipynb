{
  "nbformat": 4,
  "nbformat_minor": 0,
  "metadata": {
    "colab": {
      "provenance": [],
      "authorship_tag": "ABX9TyO9RPjKr7/2WEsiSgTjktie",
      "include_colab_link": true
    },
    "kernelspec": {
      "name": "python3",
      "display_name": "Python 3"
    },
    "language_info": {
      "name": "python"
    }
  },
  "cells": [
    {
      "cell_type": "markdown",
      "metadata": {
        "id": "view-in-github",
        "colab_type": "text"
      },
      "source": [
        "<a href=\"https://colab.research.google.com/github/emiliagyr/EstadisticaExperimental/blob/main/Ejercicio_3.ipynb\" target=\"_parent\"><img src=\"https://colab.research.google.com/assets/colab-badge.svg\" alt=\"Open In Colab\"/></a>"
      ]
    },
    {
      "cell_type": "markdown",
      "source": [
        "#Enunciado\n",
        "El desgaste profesional o burnout es considerado un riesgo psicosocial en muchas profesiones. Este suele definirse como una respuesta ante el estrés laboral prolongado, cuando las demandas laborales exceden la capacidad de respuesta de una persona o ella carece de estrategias de afrontamiento adecuadas. El burnout desencadenaría una serie de síntomas fisiológicos y emocionales, encontrándose asociado a la ansiedad, fatiga, insomnio, dolores musculares, taquicardias, problemas gastrointestinales y cardíacos, entre otros.\n",
        "Por otro lado, los estudios sobre el impacto de la práctica del yoga sobre la salud psicológica están cobrando cada vez mayor relevancia en la investigación contemporánea. El yoga es una disciplina nacida en la India basada en la práctica de distintas posturas (asanas), el control de la respiración (pranayama) y la meditación. Diversos estudios han asociado la práctica del yoga a la reducción del estrés, atribuyendo este efecto a la disminución del cortisol. Además, el yoga ha sido asociado a la reducción de la tensión muscular y problemas de sueño, así como a la mejora de los procesos de atención y concentración, favoreciendo así los estados emocionales positivos.\n",
        "Un grupo de investigadores decidió estudiar empíricamente la relación entre la práctica del yoga y el síndrome de burnout. Para ello contaron con la participación de 80 trabajadores de atención al cliente de distintas empresas privadas de Lima, con edades entre los 30 y 35 años de edad. Los trabajadores fueron sometidos a seis meses de intervención con sesiones de yoga dos veces por semana. Se registraron los niveles de burnout a través de una prueba estandarizada antes y después de la intervención completa (seis meses). Adicionalmente se registró el sexo de los participantes, si tenían experiencia previa practicando yoga, si eran trabajadores nuevos o antiguos en la empresa y el nivel de atención de los participantes después de la intervención. Este último constructo se midió a través del tiempo de reacción (TR) en una evaluación computarizada donde un mayor puntaje indica una mayor capacidad de atención."
      ],
      "metadata": {
        "id": "a7mpkEF_7Q-O"
      }
    },
    {
      "cell_type": "markdown",
      "source": [
        "#Pregunta\n",
        "Una primera hipótesis de los investigadores era que los participantes que tenían experiencia previa practicando yoga tendrían una mayor capacidad de atención y por lo tanto presentarían TR más cortos en comparación a quienes no habían practicado yoga antes de la intervención."
      ],
      "metadata": {
        "id": "qD0sKSFO7UuX"
      }
    },
    {
      "cell_type": "code",
      "source": [
        "df = pd.read_spss(\"PCI.sav\")\n",
        "df"
      ],
      "metadata": {
        "id": "5C7xtRjH7cj3"
      },
      "execution_count": null,
      "outputs": []
    }
  ]
}