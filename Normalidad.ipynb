{
 "cells": [
  {
   "cell_type": "markdown",
   "metadata": {
    "colab_type": "text",
    "id": "view-in-github"
   },
   "source": [
    "<a href=\"https://colab.research.google.com/github/emiliagyr/EstadisticaExperimental/blob/main/Normalidad.ipynb\" target=\"_parent\"><img src=\"https://colab.research.google.com/assets/colab-badge.svg\" alt=\"Open In Colab\"/></a>"
   ]
  },
  {
   "cell_type": "code",
   "execution_count": null,
   "metadata": {
    "id": "yedvNeF34CEM"
   },
   "outputs": [],
   "source": [
    "!pip install pingouin\n",
    "!pip install pyreadstat"
   ]
  },
  {
   "cell_type": "code",
   "execution_count": null,
   "metadata": {},
   "outputs": [],
   "source": [
    "!wget"
   ]
  },
  {
   "cell_type": "code",
   "execution_count": 1,
   "metadata": {
    "id": "Y8YXIi8d8p-v"
   },
   "outputs": [
    {
     "name": "stderr",
     "output_type": "stream",
     "text": [
      "Matplotlib is building the font cache; this may take a moment.\n",
      "Fontconfig warning: ignoring UTF-8: not a valid region tag\n"
     ]
    }
   ],
   "source": [
    "import pandas as pd\n",
    "import seaborn as sns\n",
    "import pingouin as pg\n",
    "from scipy.stats import kstest"
   ]
  },
  {
   "cell_type": "code",
   "execution_count": null,
   "metadata": {
    "id": "rrztBpr38ru6"
   },
   "outputs": [],
   "source": [
    "# Opcional: si el contenido de las columnas no se muestra completo\n",
    "pd.set_option(\"display.max_columns\", None)"
   ]
  },
  {
   "cell_type": "code",
   "execution_count": null,
   "metadata": {
    "id": "3a7_TK_F8zFX"
   },
   "outputs": [],
   "source": [
    "# dv = variable dependiente\n",
    "# group = niveles de la variable independiente"
   ]
  },
  {
   "cell_type": "markdown",
   "metadata": {
    "id": "STWb_sYu85x4"
   },
   "source": [
    "#1. Leer los datos del documento .sav (SPSS) o .csv (Excel)"
   ]
  },
  {
   "cell_type": "code",
   "execution_count": null,
   "metadata": {
    "id": "fyjkad5982Ru"
   },
   "outputs": [],
   "source": [
    "df = pd.read_spss(\"SPSS.sav\")\n",
    "df"
   ]
  },
  {
   "cell_type": "markdown",
   "metadata": {
    "id": "h5rEFXkH8_pz"
   },
   "source": [
    "#2. Estadisticos descriptivos"
   ]
  },
  {
   "cell_type": "code",
   "execution_count": null,
   "metadata": {
    "id": "eMkb2Jp489aC"
   },
   "outputs": [],
   "source": [
    "df.describe()"
   ]
  },
  {
   "cell_type": "markdown",
   "metadata": {
    "id": "2mV6IAHG9GT8"
   },
   "source": [
    "#3. Normalidad"
   ]
  },
  {
   "cell_type": "code",
   "execution_count": null,
   "metadata": {
    "id": "ES_JyVKZ9Cdr"
   },
   "outputs": [],
   "source": [
    "# Constraste de normalidad SHAPIRO\n",
    "pg.normality(data=df, dv=\"DV\", group=\"GROUP\", method=\"shapiro\")"
   ]
  },
  {
   "cell_type": "code",
   "execution_count": null,
   "metadata": {
    "id": "7QPrdRI6SlYY"
   },
   "outputs": [],
   "source": [
    "# Constraste de normalidad Kolmogorov-Smirnov\n",
    "kstest_result = kstest(df[\"1\"], \"norm\")\n",
    "\n",
    "# Imprime el resultado\n",
    "print(\"Estadística de la prueba:\", kstest_result.statistic)\n",
    "print(\"Valor p:\", kstest_result.pvalue)"
   ]
  },
  {
   "cell_type": "code",
   "execution_count": null,
   "metadata": {
    "id": "dA73Wwkg9MFS"
   },
   "outputs": [],
   "source": [
    "# Gráficos: QQPlot de cada nivel de la VI\n",
    "pg.qqplot(df.query(\"GROUP == 'NIVEL1'\")[\"VI\"])"
   ]
  },
  {
   "cell_type": "code",
   "execution_count": null,
   "metadata": {
    "id": "yKXn5FK09XGa"
   },
   "outputs": [],
   "source": [
    "# Estadisticos de forma: Asimetría\n",
    "df.groupby(\"GROUP\").skew(\n",
    "    numeric_only=True\n",
    ")  # numeric_only es para que solo utilice datos numéricos"
   ]
  },
  {
   "cell_type": "code",
   "execution_count": null,
   "metadata": {
    "id": "IGW7SgBE9ZBE"
   },
   "outputs": [],
   "source": [
    "# Estadisticos de forma: Curtosis\n",
    "df.groupby(\"GROUP\").apply(pd.DataFrame.kurt, numeric_only=True)"
   ]
  }
 ],
 "metadata": {
  "colab": {
   "authorship_tag": "ABX9TyPeICLpZzwrvzS016ycQZ51",
   "include_colab_link": true,
   "provenance": []
  },
  "kernelspec": {
   "display_name": "Python 3",
   "name": "python3"
  },
  "language_info": {
   "codemirror_mode": {
    "name": "ipython",
    "version": 3
   },
   "file_extension": ".py",
   "mimetype": "text/x-python",
   "name": "python",
   "nbconvert_exporter": "python",
   "pygments_lexer": "ipython3",
   "version": "3.11.4"
  }
 },
 "nbformat": 4,
 "nbformat_minor": 0
}
