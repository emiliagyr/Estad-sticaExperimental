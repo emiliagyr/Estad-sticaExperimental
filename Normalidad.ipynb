{
  "nbformat": 4,
  "nbformat_minor": 0,
  "metadata": {
    "colab": {
      "provenance": [],
      "authorship_tag": "ABX9TyPeICLpZzwrvzS016ycQZ51",
      "include_colab_link": true
    },
    "kernelspec": {
      "name": "python3",
      "display_name": "Python 3"
    },
    "language_info": {
      "name": "python"
    }
  },
  "cells": [
    {
      "cell_type": "markdown",
      "metadata": {
        "id": "view-in-github",
        "colab_type": "text"
      },
      "source": [
        "<a href=\"https://colab.research.google.com/github/emiliagyr/EstadisticaExperimental/blob/main/Normalidad.ipynb\" target=\"_parent\"><img src=\"https://colab.research.google.com/assets/colab-badge.svg\" alt=\"Open In Colab\"/></a>"
      ]
    },
    {
      "cell_type": "code",
      "execution_count": null,
      "metadata": {
        "id": "yedvNeF34CEM"
      },
      "outputs": [],
      "source": [
        "!pip install pingouin\n",
        "!pip install pyreadstat"
      ]
    },
    {
      "cell_type": "code",
      "source": [
        "import pandas as pd\n",
        "import seaborn as sns\n",
        "import pingouin as pg\n",
        "from scipy.stats import kstest"
      ],
      "metadata": {
        "id": "Y8YXIi8d8p-v"
      },
      "execution_count": null,
      "outputs": []
    },
    {
      "cell_type": "code",
      "source": [
        "#Opcional: si el contenido de las columnas no se muestra completo\n",
        "pd.set_option('display.max_columns', None)"
      ],
      "metadata": {
        "id": "rrztBpr38ru6"
      },
      "execution_count": null,
      "outputs": []
    },
    {
      "cell_type": "code",
      "source": [
        "#dv = variable dependiente\n",
        "#group = niveles de la variable independiente"
      ],
      "metadata": {
        "id": "3a7_TK_F8zFX"
      },
      "execution_count": null,
      "outputs": []
    },
    {
      "cell_type": "markdown",
      "source": [
        "#1. Leer los datos del documento .sav (SPSS) o .csv (Excel)"
      ],
      "metadata": {
        "id": "STWb_sYu85x4"
      }
    },
    {
      "cell_type": "code",
      "source": [
        "df = pd.read_spss(\"SPSS.sav\")\n",
        "df"
      ],
      "metadata": {
        "id": "fyjkad5982Ru"
      },
      "execution_count": null,
      "outputs": []
    },
    {
      "cell_type": "markdown",
      "source": [
        "#2. Estadisticos descriptivos"
      ],
      "metadata": {
        "id": "h5rEFXkH8_pz"
      }
    },
    {
      "cell_type": "code",
      "source": [
        "df.describe()"
      ],
      "metadata": {
        "id": "eMkb2Jp489aC"
      },
      "execution_count": null,
      "outputs": []
    },
    {
      "cell_type": "markdown",
      "source": [
        "#3. Normalidad"
      ],
      "metadata": {
        "id": "2mV6IAHG9GT8"
      }
    },
    {
      "cell_type": "code",
      "source": [
        "#Constraste de normalidad SHAPIRO\n",
        "pg.normality(data=df, dv=\"DV\", group=\"GROUP\", method=\"shapiro\")"
      ],
      "metadata": {
        "id": "ES_JyVKZ9Cdr"
      },
      "execution_count": null,
      "outputs": []
    },
    {
      "cell_type": "code",
      "source": [
        "#Constraste de normalidad Kolmogorov-Smirnov\n",
        "kstest_result = kstest(df[\"1\"], 'norm')\n",
        "\n",
        "# Imprime el resultado\n",
        "print(\"Estadística de la prueba:\", kstest_result.statistic)\n",
        "print(\"Valor p:\", kstest_result.pvalue)"
      ],
      "metadata": {
        "id": "7QPrdRI6SlYY"
      },
      "execution_count": null,
      "outputs": []
    },
    {
      "cell_type": "code",
      "source": [
        "#Gráficos: QQPlot de cada nivel de la VI\n",
        "pg.qqplot(df.query(\"GROUP == 'NIVEL1'\")[\"VI\"])"
      ],
      "metadata": {
        "id": "dA73Wwkg9MFS"
      },
      "execution_count": null,
      "outputs": []
    },
    {
      "cell_type": "code",
      "source": [
        "#Estadisticos de forma: Asimetría\n",
        "df.groupby(\"GROUP\").skew(numeric_only=True) #numeric_only es para que solo utilice datos numéricos"
      ],
      "metadata": {
        "id": "yKXn5FK09XGa"
      },
      "execution_count": null,
      "outputs": []
    },
    {
      "cell_type": "code",
      "source": [
        "#Estadisticos de forma: Curtosis\n",
        "df.groupby(\"GROUP\").apply(pd.DataFrame.kurt, numeric_only=True)"
      ],
      "metadata": {
        "id": "IGW7SgBE9ZBE"
      },
      "execution_count": null,
      "outputs": []
    }
  ]
}