!pip install pingouin
!pip install pyreadstat
import pandas as pd
import seaborn as sns
import pingouin as pg
pd.set_option('display.max_columns', None)
#dv = variable dependiente
#group = niveles de la variable independiente
df = pd.read_spss("PCI.sav")
df
df.describe()
#Constraste de normalidad
pg.normality(data=df, dv="PCI", group="COND", method="shapiro")
#Gráficos: QQPlot de cada nivel de la VI
pg.qqplot(df.query("COND == 'Diferencia Intergrupal'")["PCI"])
pg.qqplot(df.query("COND == 'Semejanza Intergrupal'")["PCI"])
#Estadisticos de forma: Asimetría
df.groupby("COND").skew(numeric_only=True) #numeric_only es para que solo utilice datos numéricos
#Estadisticos de forma: Curtosis
df.groupby("COND").apply(pd.DataFrame.kurt, numeric_only=True)
