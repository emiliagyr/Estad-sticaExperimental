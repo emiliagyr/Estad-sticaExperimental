{
  "nbformat": 4,
  "nbformat_minor": 0,
  "metadata": {
    "colab": {
      "provenance": [],
      "authorship_tag": "ABX9TyNNE2t1iI1GC75Htz3eXB5E",
      "include_colab_link": true
    },
    "kernelspec": {
      "name": "python3",
      "display_name": "Python 3"
    },
    "language_info": {
      "name": "python"
    }
  },
  "cells": [
    {
      "cell_type": "markdown",
      "metadata": {
        "id": "view-in-github",
        "colab_type": "text"
      },
      "source": [
        "<a href=\"https://colab.research.google.com/github/emiliagyr/EstadisticaExperimental/blob/main/Ejercicio_1.ipynb\" target=\"_parent\"><img src=\"https://colab.research.google.com/assets/colab-badge.svg\" alt=\"Open In Colab\"/></a>"
      ]
    },
    {
      "cell_type": "markdown",
      "source": [
        "#Enunciado\n",
        "Como parte de un experimento social se conformaron dos grupos que probaron un juego en fase de prueba que buscaba explorar una serie de premisas vinculadas con las Relaciones Intergrupales. En el juego, los participantes asumían una identidad grupal e interactuaban (virtualmente) con supuestos miembros de otra comunidad. Cabe resaltar que cada grupo previo al contacto recibía una descripción del endogrupo y también del exogrupo, en el primer caso se reforzaba al exogrupo y se minimizaba al endogrupo (condición 1: Diferencia Intergrupal), en el segundo caso ambos grupos se fortalecían en base a las mismas características (condición 0, Semejanza Intergrupal). La interacción permitía satisfacer un conjunto de necesidades endogrupales y evitaba el conflicto intergrupal. Sin embargo, en la interfase se colocaron distintos tipos de respuesta para la interacción, algunos más violentos que otros. Los niveles de interacción fueron puntuados y generaron un indicador denominado PCI (Potencial Conflicto Intergrupal), donde un mayor puntaje refleja mayor PCI."
      ],
      "metadata": {
        "id": "a7mpkEF_7Q-O"
      }
    },
    {
      "cell_type": "markdown",
      "source": [
        "#Pregunta\n",
        "¿Podría concluirse que los miembros en cuya condición se reforzó al exogrupo (DIFERENCIA INTERGRUPAL) tuvieron puntajes mayores en el PCI que aquellos en los que ambos grupos fueron reforzados (SEMEJANZA)? Verifique si se cumplió la hipótesis de los investigadores, escribiendo previamente las hipótesis y verificando la normalidad."
      ],
      "metadata": {
        "id": "qD0sKSFO7UuX"
      }
    },
    {
      "cell_type": "code",
      "source": [
        "df = pd.read_spss(\"PCI.sav\")\n",
        "df"
      ],
      "metadata": {
        "id": "5C7xtRjH7cj3"
      },
      "execution_count": null,
      "outputs": []
    }
  ]
}