{
  "nbformat": 4,
  "nbformat_minor": 0,
  "metadata": {
    "colab": {
      "provenance": [],
      "authorship_tag": "ABX9TyPVcQJ80pHUVC7/eSvcdEzm",
      "include_colab_link": true
    },
    "kernelspec": {
      "name": "python3",
      "display_name": "Python 3"
    },
    "language_info": {
      "name": "python"
    }
  },
  "cells": [
    {
      "cell_type": "markdown",
      "metadata": {
        "id": "view-in-github",
        "colab_type": "text"
      },
      "source": [
        "<a href=\"https://colab.research.google.com/github/emiliagyr/EstadisticaExperimental/blob/main/Colab/Ejercicio3_ANOVA.ipynb\" target=\"_parent\"><img src=\"https://colab.research.google.com/assets/colab-badge.svg\" alt=\"Open In Colab\"/></a>"
      ]
    },
    {
      "cell_type": "markdown",
      "source": [
        "#Enunciado\n",
        "La intervención Video-feedback Intervention to promote Positive Parenting and Sensitive Discipline (VIPP-SD) tiene como objetivo incrementar la sensibilidad materna mediante 7 sesiones en las que se filman y discuten distintas interacciones de la diada madre-niño. Debido a que esta intervención ha sido probada solamente en los Países Bajos, un grupo de investigación de la PUCP deseaba evaluar si se tendrían resultados positivos en una muestra piloto de madres peruanas. Para ello se trabajó con 120 diadas madre niño y se las evaluó mediante la escala de sensibilidad de Ainsworth en 4 momentos (antes de la intervención, después de la intervención, 6 meses después del final de la intervención y 12 meses después del final de la intervención).\n",
        "\n",
        "a. El grupo de investigación buscaba identificar si habría diferencias en la sensibilidad materna en los distintos momentos a raíz de la intervención. Asuma normalidad en la distribución de las mediciones."
      ],
      "metadata": {
        "id": "2odFbPIku3UC"
      }
    },
    {
      "cell_type": "code",
      "source": [
        "df = pd.read_spss(\"VIPP-SD.sav\")\n",
        "df"
      ],
      "metadata": {
        "id": "iAkU-tZFvRua"
      },
      "execution_count": null,
      "outputs": []
    }
  ]
}