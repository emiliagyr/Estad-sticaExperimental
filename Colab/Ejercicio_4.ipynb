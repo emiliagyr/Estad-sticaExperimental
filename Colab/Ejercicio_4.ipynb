{
  "nbformat": 4,
  "nbformat_minor": 0,
  "metadata": {
    "colab": {
      "provenance": [],
      "authorship_tag": "ABX9TyPuzlNLuOOEa+ZL28wAPJj9",
      "include_colab_link": true
    },
    "kernelspec": {
      "name": "python3",
      "display_name": "Python 3"
    },
    "language_info": {
      "name": "python"
    }
  },
  "cells": [
    {
      "cell_type": "markdown",
      "metadata": {
        "id": "view-in-github",
        "colab_type": "text"
      },
      "source": [
        "<a href=\"https://colab.research.google.com/github/emiliagyr/EstadisticaExperimental/blob/main/Ejercicio_4.ipynb\" target=\"_parent\"><img src=\"https://colab.research.google.com/assets/colab-badge.svg\" alt=\"Open In Colab\"/></a>"
      ]
    },
    {
      "cell_type": "markdown",
      "source": [
        "#Enunciado\n",
        "De acuerdo a los estudios de Fredrickson (1998, 2001), las emociones positivas juegan un rol importante y ensanchan los repertorios de acción y pensamiento de las personas, incitándolos a alcanzar un mayor rango de acciones y pensamientos en comparación a como usualmente responderían. Como consecuencia de ello, estas consecuencias favorables pueden convertirse en recursos personales que los sujetos pueden terminar adoptando para ser empleadas posteriormente.\n",
        "En ese sentido, una de las hipótesis referidas a esta teoría, indica que las emociones positivas ensanchan el alcance de la atención, cognición y acción, expandiendo la serie de pensamientos y acciones desplegadas en nuestra mente, por el contrario las emociones negativas las constriñen.\n",
        "De esta manera, un grupo de psicólogos diseñó un experimento que se dedicó especialmente en registrar el efecto sobre la atención. En el estudio participaron estudiantes universitarios, quienes fueron sometidos aleatoriamente a una de dos condiciones experimentales: por un lado la mitad de ellos fueron sometidos a la exposición de clips de películas que producían emociones positivas (diversión y alegría) y por otro lado, la otra mitad, a clips de películas que producían emociones negativas (enojo y miedo).\n",
        "La atención se registró a través de una prueba de 8 ítems que evaluaba el procesamiento visual de los individuos en tareas que discernían entre la atención global a los estímulos o, por el contrario, la atención parcial a los mismos. La idea era que los sujetos podrían percibir ahora de forma más holística los estímulos, un mayor puntaje indicaba un mejor desempeño en ese sentido.\n",
        "Se tomó una forma A de la prueba de atención antes que los sujetos vieran los clips de video y una forma B de la prueba para la última parte. De otro lado, se aplicó una escala que registraba la afectividad positiva y negativa de los sujetos para comparar sus niveles iniciales de afectividad, antes de someterlos a las condiciones experimentales."
      ],
      "metadata": {
        "id": "a7mpkEF_7Q-O"
      }
    },
    {
      "cell_type": "markdown",
      "source": [
        "#Pregunta\n",
        "Uno de los investigadores del equipo señaló que antes del experimento no se deberían encontrar diferencias significativas en los puntajes de afectividad positiva y negativa en todos los participantes del estudio. Verifique si se cumplió la hipótesis de los investigadores, escribiendo previamente las hipótesis y verificando la normalidad."
      ],
      "metadata": {
        "id": "qD0sKSFO7UuX"
      }
    },
    {
      "cell_type": "code",
      "source": [
        "df = pd.read_spss(\"Exp_Fredry.sav\")\n",
        "df"
      ],
      "metadata": {
        "id": "5C7xtRjH7cj3"
      },
      "execution_count": null,
      "outputs": []
    }
  ]
}