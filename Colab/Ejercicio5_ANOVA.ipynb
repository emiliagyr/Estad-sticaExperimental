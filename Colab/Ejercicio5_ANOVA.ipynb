{
  "nbformat": 4,
  "nbformat_minor": 0,
  "metadata": {
    "colab": {
      "provenance": [],
      "authorship_tag": "ABX9TyPVePI3XKkb7X+BcjuUEqHH",
      "include_colab_link": true
    },
    "kernelspec": {
      "name": "python3",
      "display_name": "Python 3"
    },
    "language_info": {
      "name": "python"
    }
  },
  "cells": [
    {
      "cell_type": "markdown",
      "metadata": {
        "id": "view-in-github",
        "colab_type": "text"
      },
      "source": [
        "<a href=\"https://colab.research.google.com/github/emiliagyr/EstadisticaExperimental/blob/main/Colab/Ejercicio5_ANOVA.ipynb\" target=\"_parent\"><img src=\"https://colab.research.google.com/assets/colab-badge.svg\" alt=\"Open In Colab\"/></a>"
      ]
    },
    {
      "cell_type": "markdown",
      "source": [
        "#Enunciado\n",
        "Un grupo que investiga el funcionamiento de la memoria realizó un estudio a fin de establecer si es que distintos métodos mnemotécnicos vinculados a distintos niveles de asociación a información significativa se encontraban asociados a un mayor recuerdo de palabras. Para ello, realizaron un experimento en el que se proyectaron palabras en la pantalla de una computadora y se le pidió a los participantes que escribieran la mayor cantidad de palabras que recordasen una hora después. La misma muestra de personas fue expuesta a tres condiciones. En la primera condición se les presentó solamente las palabras. En la segunda condición se proyectaron las palabras acompañadas de imágenes relacionadas. Finalmente, en la tercera condición se les proyectó las palabras acompañadas de las mismas imágenes relacionadas y se añadió la grabación de una persona pronunciando cada palabra proyectada en voz alta. El grupo de investigación predijo que existirían diferencias entre las tres condiciones por las que atravesó la muestra de sujetos en este estudio, pero no sabían de antemano qué condición produciría los mejores resultados. Los datos de la investigación se encuentran en la base de datos Word_recall_2.sav.\n",
        "Evalúe la normalidad de la distribución, el supuesto de esfericidad y realice los análisis que crea conveniente para dar respuesta a las interrogantes de los investigadores."
      ],
      "metadata": {
        "id": "2odFbPIku3UC"
      }
    },
    {
      "cell_type": "code",
      "source": [
        "df = pd.read_spss(\"Word_recall_2\")\n",
        "df"
      ],
      "metadata": {
        "id": "iAkU-tZFvRua"
      },
      "execution_count": null,
      "outputs": []
    }
  ]
}