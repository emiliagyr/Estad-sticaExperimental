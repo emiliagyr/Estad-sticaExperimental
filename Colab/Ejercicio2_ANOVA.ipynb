{
  "nbformat": 4,
  "nbformat_minor": 0,
  "metadata": {
    "colab": {
      "provenance": [],
      "authorship_tag": "ABX9TyNhkh0ehSfSBCGFmLIvEd6v",
      "include_colab_link": true
    },
    "kernelspec": {
      "name": "python3",
      "display_name": "Python 3"
    },
    "language_info": {
      "name": "python"
    }
  },
  "cells": [
    {
      "cell_type": "markdown",
      "metadata": {
        "id": "view-in-github",
        "colab_type": "text"
      },
      "source": [
        "<a href=\"https://colab.research.google.com/github/emiliagyr/EstadisticaExperimental/blob/main/Colab/Ejercicio2_ANOVA.ipynb\" target=\"_parent\"><img src=\"https://colab.research.google.com/assets/colab-badge.svg\" alt=\"Open In Colab\"/></a>"
      ]
    },
    {
      "cell_type": "markdown",
      "source": [
        "#Enunciado\n",
        "Muchas personas hoy en día sufren de hipertensión arterial. Algunos doctores recomiendan a sus pacientes dietas bajas en sal; mientras un laboratorio químico ha creado un nuevo fármaco que se cree es más eficiente que dicha dieta. Para comprobar que el tratamiento con la pastilla funcionaba mejor que solo las dietas bajas en sal, se selección a un grupo de 100 personas a las cuales se las distribuyo en 4 grupos diferentes. El primer grupo recibió una pastilla placebo que no tenía ningún efecto en el organismo de la persona. El segundo grupo recibió solo la pastilla generada por el laboratorio farmacéutico. El tercer grupo recibió tanto la pastilla como la dieta baja en sal y el cuarto grupo, recibió solo la dieta baja en sal. Los investigadores no quisieron realizar ninguna hipótesis debido a que tuvieron un grupo que no solo estuvo en una dieta baja de sal, sino que tomó la pastilla para la presión arterial alta. Asuma que no hay normalidad de los datos."
      ],
      "metadata": {
        "id": "2odFbPIku3UC"
      }
    },
    {
      "cell_type": "code",
      "source": [
        "df = pd.read_spss(\"Presion_arterial.sav\")\n",
        "df"
      ],
      "metadata": {
        "id": "iAkU-tZFvRua"
      },
      "execution_count": null,
      "outputs": []
    }
  ]
}