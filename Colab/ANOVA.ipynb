{
  "nbformat": 4,
  "nbformat_minor": 0,
  "metadata": {
    "colab": {
      "provenance": [],
      "authorship_tag": "ABX9TyNFFP8sO8u6L4LBKnXMl1cW",
      "include_colab_link": true
    },
    "kernelspec": {
      "name": "python3",
      "display_name": "Python 3"
    },
    "language_info": {
      "name": "python"
    }
  },
  "cells": [
    {
      "cell_type": "markdown",
      "metadata": {
        "id": "view-in-github",
        "colab_type": "text"
      },
      "source": [
        "<a href=\"https://colab.research.google.com/github/emiliagyr/EstadisticaExperimental/blob/main/Colab/ANOVA.ipynb\" target=\"_parent\"><img src=\"https://colab.research.google.com/assets/colab-badge.svg\" alt=\"Open In Colab\"/></a>"
      ]
    },
    {
      "cell_type": "code",
      "execution_count": null,
      "metadata": {
        "id": "yedvNeF34CEM"
      },
      "outputs": [],
      "source": [
        "!pip install pingouin\n",
        "!pip install pyreadstat"
      ]
    },
    {
      "cell_type": "code",
      "source": [
        "import pandas as pd\n",
        "import seaborn as sns\n",
        "import pingouin as pg"
      ],
      "metadata": {
        "id": "Y8YXIi8d8p-v"
      },
      "execution_count": null,
      "outputs": []
    },
    {
      "cell_type": "code",
      "source": [
        "#Opcional: si el contenido de las columnas no se muestra completo\n",
        "pd.set_option('display.max_columns', None)"
      ],
      "metadata": {
        "id": "rrztBpr38ru6"
      },
      "execution_count": null,
      "outputs": []
    },
    {
      "cell_type": "markdown",
      "source": [
        "#1. Leer los datos del documento .sav (SPSS) o .csv (Excel)"
      ],
      "metadata": {
        "id": "STWb_sYu85x4"
      }
    },
    {
      "cell_type": "code",
      "source": [
        "df = pd.read_spss(\"SPSS.sav\")\n",
        "df"
      ],
      "metadata": {
        "id": "fyjkad5982Ru"
      },
      "execution_count": null,
      "outputs": []
    },
    {
      "cell_type": "markdown",
      "source": [
        "#2. Estadisticos descriptivos"
      ],
      "metadata": {
        "id": "m-RvFU5p-YPO"
      }
    },
    {
      "cell_type": "code",
      "source": [
        "df.describe()"
      ],
      "metadata": {
        "id": "yKRwjBa4-YPP"
      },
      "execution_count": null,
      "outputs": []
    },
    {
      "cell_type": "markdown",
      "source": [
        "#DISEÑOS INTERSUJETOS"
      ],
      "metadata": {
        "id": "_I6thOP1_s5k"
      }
    },
    {
      "cell_type": "markdown",
      "source": [
        "##3. Análisis de varianzas de 1 vía"
      ],
      "metadata": {
        "id": "hma_QPmY-aA9"
      }
    },
    {
      "cell_type": "code",
      "source": [
        "pg.anova(dv=\"dependent variable\", between=\"independent variable\", data=df)"
      ],
      "metadata": {
        "id": "zbYZ_JFBzt98"
      },
      "execution_count": null,
      "outputs": []
    },
    {
      "cell_type": "markdown",
      "source": [
        "Homogeneidad de varianzas"
      ],
      "metadata": {
        "id": "ygS9o6cuBIvv"
      }
    },
    {
      "cell_type": "code",
      "source": [
        "#Homogeneidad de varianzas: Sólo para contrastes paramétricos de muestras independientes\n",
        "pg.homoscedasticity(data=df, dv=\"VD\", group=\"independent variable\")"
      ],
      "metadata": {
        "id": "ehKZkGZxBKMx"
      },
      "execution_count": null,
      "outputs": []
    },
    {
      "cell_type": "markdown",
      "source": [
        "Post-hoc Tukey"
      ],
      "metadata": {
        "id": "nZ8SoBThA1-E"
      }
    },
    {
      "cell_type": "code",
      "source": [
        "pg.pairwise_tukey(data=df, dv='dependent variable', between='independent variable')"
      ],
      "metadata": {
        "id": "dJlN23ETA4v8"
      },
      "execution_count": null,
      "outputs": []
    },
    {
      "cell_type": "markdown",
      "source": [
        "Post-hoc Games Howell"
      ],
      "metadata": {
        "id": "6H93nPwMBs8Z"
      }
    },
    {
      "cell_type": "code",
      "source": [
        "pg.pairwise_gameshowell(data=df, dv='dependent variable', between='independent variable')"
      ],
      "metadata": {
        "id": "5QtGCxFyBvmO"
      },
      "execution_count": null,
      "outputs": []
    },
    {
      "cell_type": "code",
      "source": [
        "#Para anova de dos vías solo se coloca una lista dentro de between\n",
        "pg.anova(dv=\"rt\", between=[\"iv1\", \"iv2\"], data=df_2way)"
      ],
      "metadata": {
        "id": "m9xOTb7JCQfG"
      },
      "execution_count": null,
      "outputs": []
    },
    {
      "cell_type": "markdown",
      "source": [
        "##4. Prueba de Kruskal Wallis\n",
        "\n"
      ],
      "metadata": {
        "id": "EdCaj1do2zWi"
      }
    },
    {
      "cell_type": "code",
      "source": [
        "pg.kruskal(dv=\"dependent variable\", between=\"independent variable\", data=df)"
      ],
      "metadata": {
        "id": "D-hvNM_6_scN"
      },
      "execution_count": null,
      "outputs": []
    },
    {
      "cell_type": "markdown",
      "source": [
        "#DISEÑOS INTRASUJETOS"
      ],
      "metadata": {
        "id": "ymE8tLXOAKKk"
      }
    },
    {
      "cell_type": "markdown",
      "source": [
        "##5. Análisis de medias repetidas"
      ],
      "metadata": {
        "id": "y_nhCVBV-2kx"
      }
    },
    {
      "cell_type": "code",
      "source": [
        "pg.rm_anova(dv=\"dependent variable\", within=\"cond\", subject=\"Sub_id\", data=df_repeated)"
      ],
      "metadata": {
        "id": "xmqnAEbMNXOt"
      },
      "execution_count": null,
      "outputs": []
    },
    {
      "cell_type": "markdown",
      "source": [
        "##6. Prueba de Friedman"
      ],
      "metadata": {
        "id": "FkZvbRwl-4yQ"
      }
    },
    {
      "cell_type": "code",
      "source": [
        "pg.friedman(dv=\"dependent variable\", within=\"cond\", subject=\"Sub_id\", data=df_repeated)"
      ],
      "metadata": {
        "id": "_D328rfEAMXR"
      },
      "execution_count": null,
      "outputs": []
    }
  ]
}