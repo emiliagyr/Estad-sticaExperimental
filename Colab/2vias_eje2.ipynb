{
  "nbformat": 4,
  "nbformat_minor": 0,
  "metadata": {
    "colab": {
      "provenance": [],
      "authorship_tag": "ABX9TyMgjHTcq7UtpZ9VVgsGgPJx",
      "include_colab_link": true
    },
    "kernelspec": {
      "name": "python3",
      "display_name": "Python 3"
    },
    "language_info": {
      "name": "python"
    }
  },
  "cells": [
    {
      "cell_type": "markdown",
      "metadata": {
        "id": "view-in-github",
        "colab_type": "text"
      },
      "source": [
        "<a href=\"https://colab.research.google.com/github/emiliagyr/EstadisticaExperimental/blob/main/Colab/2vias_eje2.ipynb\" target=\"_parent\"><img src=\"https://colab.research.google.com/assets/colab-badge.svg\" alt=\"Open In Colab\"/></a>"
      ]
    },
    {
      "cell_type": "markdown",
      "source": [
        "#Enunciado\n",
        "La intervención Video-feedback Intervention to promote Positive Parenting and Sensitive Discipline (VIPP-SD) tiene como objetivo incrementar la sensibilidad materna mediante 7 sesiones en las que se filman y discuten distintas interacciones de la diada madre-niño. Debido a que esta intervención ha sido probada solamente en los Países Bajos, un grupo de investigación de la PUCP deseaba evaluar si se tendrían resultados positivos en una muestra piloto de madres peruanas. Para ello se trabajó con 120 diadas madre niño y se las evaluó mediante la escala de sensibilidad de Ainsworth en 4 momentos (antes de la intervención, después de la intervención, 6 meses después del final de la intervención y 12 meses después del final de la intervención).\n",
        "\n",
        "b. Para el mismo estudio, el grupo de investigación identificó literatura relevante respecto al posible efecto que el nivel socioeconómico (NSE) podría tener sobre los puntajes de sensibilidad materna y la efectividad de una intervención de Video-feedback. Estudios previos realizados en Europa identificaron que existirían diferencias en la sensibilidad materna de acuerdo al NSE pero no se sabía entre cuáles grupos. Por ello, los investigadores buscaron comprobar 1) si existían diferencias en los niveles de sensibilidad materna en los diversos momentos de medición, 2) si se encontraban diferencias significativas entre los distintos momentos de evaluación conforme iba progresando el tiempo, 3) si existirían diferencias en la sensibilidad materna entre los distintos NSE y entre cuáles NSE existían diferencias significativas y 4) verificar una posible interacción entre el NSE y los distintos momentos de la evaluación. Asuma normalidad en las distribuciones."
      ],
      "metadata": {
        "id": "2odFbPIku3UC"
      }
    },
    {
      "cell_type": "code",
      "source": [
        "df = pd.read_spss(\"VIPP-SD.sav\")\n",
        "df"
      ],
      "metadata": {
        "id": "iAkU-tZFvRua"
      },
      "execution_count": null,
      "outputs": []
    }
  ]
}