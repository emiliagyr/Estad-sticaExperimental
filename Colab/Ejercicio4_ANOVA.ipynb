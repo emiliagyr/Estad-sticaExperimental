{
  "nbformat": 4,
  "nbformat_minor": 0,
  "metadata": {
    "colab": {
      "provenance": [],
      "authorship_tag": "ABX9TyNESTgwJGrnw386VjIlEWG0",
      "include_colab_link": true
    },
    "kernelspec": {
      "name": "python3",
      "display_name": "Python 3"
    },
    "language_info": {
      "name": "python"
    }
  },
  "cells": [
    {
      "cell_type": "markdown",
      "metadata": {
        "id": "view-in-github",
        "colab_type": "text"
      },
      "source": [
        "<a href=\"https://colab.research.google.com/github/emiliagyr/EstadisticaExperimental/blob/main/Colab/Ejercicio4_ANOVA.ipynb\" target=\"_parent\"><img src=\"https://colab.research.google.com/assets/colab-badge.svg\" alt=\"Open In Colab\"/></a>"
      ]
    },
    {
      "cell_type": "markdown",
      "source": [
        "#Enunciado\n",
        "Durante las elecciones del 2021, una muestra conformada por 523 participantes, aproximadamente la mitad de ellos simpatizantes del partido “Perú Libre” y la mitad restante simpatizantes del partido “Fuerza Popular” fueron evaluados en tres momentos distintos sobre el nivel de satisfacción con su candidato(a).\n",
        "\n",
        "a. En general los investigadores esperaron que la satisfacción de los simpatizantes de Fuerza Popular no se modifique en el tiempo, de igual manera con los simpatizantes de Perú Libre.\n",
        "\n",
        "b. Por otro lado, como se tuvieron muestras similares en costa, sierra y selva se esperaron resultados específicos por región: a) se esperaba que en la selva la satisfacción hacia Fuerza Popular mejore en el tiempo y b) se esperaba que en la sierra la satisfacción hacia Perú Libre se fortalezca en el tiempo.\n",
        "\n",
        "Los datos de esta investigación se hallan en la base Voto_2021.sav. Asuma una distribución no normal de todos los datos."
      ],
      "metadata": {
        "id": "2odFbPIku3UC"
      }
    },
    {
      "cell_type": "code",
      "source": [
        "df = pd.read_spss(\"Voto_2021.sav\")\n",
        "df"
      ],
      "metadata": {
        "id": "iAkU-tZFvRua"
      },
      "execution_count": null,
      "outputs": []
    }
  ]
}