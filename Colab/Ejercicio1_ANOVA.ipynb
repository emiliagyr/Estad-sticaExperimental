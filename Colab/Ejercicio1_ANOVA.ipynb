{
  "nbformat": 4,
  "nbformat_minor": 0,
  "metadata": {
    "colab": {
      "provenance": [],
      "authorship_tag": "ABX9TyN6KMrebVzSTLdDqLdl1Qca",
      "include_colab_link": true
    },
    "kernelspec": {
      "name": "python3",
      "display_name": "Python 3"
    },
    "language_info": {
      "name": "python"
    }
  },
  "cells": [
    {
      "cell_type": "markdown",
      "metadata": {
        "id": "view-in-github",
        "colab_type": "text"
      },
      "source": [
        "<a href=\"https://colab.research.google.com/github/emiliagyr/EstadisticaExperimental/blob/main/Colab/Ejercicio1_ANOVA.ipynb\" target=\"_parent\"><img src=\"https://colab.research.google.com/assets/colab-badge.svg\" alt=\"Open In Colab\"/></a>"
      ]
    },
    {
      "cell_type": "markdown",
      "source": [
        "#Enunciado\n",
        "Una empresa de bebidas no alcohólicas desea comparar diferentes recursos para publicitar de manera efectiva una nueva marca de gaseosa. Entre las formas de publicitar ésta categoría se suele utilizar la televisión, a través de spots publicitarios y menciones en programas; redes sociales, especialmente Facebook, y finalmente a través de la prensa escrita, como avisos en periódicos."
      ],
      "metadata": {
        "id": "2odFbPIku3UC"
      }
    },
    {
      "cell_type": "markdown",
      "source": [
        "#Hipótesis\n",
        "**La empresa cree que publicitar en televisión es menos efectivo que publicitar en redes sociales, pero más efectivo que publicitar en prensa. Pero solo le interesa verificar esto a nivel muestral (descriptivo) y no poblacional.**"
      ],
      "metadata": {
        "id": "jakCM_Beu_Xh"
      }
    },
    {
      "cell_type": "markdown",
      "source": [
        "#Tarea\n",
        "La empresa le pide, como psicólogo, que evalúe estas formas de publicidad con una muestra de 60 consumidores de gaseosas, de similar edad, frecuencia de consumo de la categoría y sin conocimiento de la nueva marca. La efectividad publicitaria se mide a través del número de compras de la marca (por semana) que la persona realizaría. Dada la muestra, 20 personas fueron seleccionadas al azar y asignados a la exposición de publicidad a través de TV, 20 personas fueron expuestas a publicidad a través de redes sociales; y 20 personas, a través de prensa."
      ],
      "metadata": {
        "id": "h9Q8mTtqvIe8"
      }
    },
    {
      "cell_type": "code",
      "source": [
        "df = pd.read_spss(\"Publicidad_Gaseosas.sav\")\n",
        "df"
      ],
      "metadata": {
        "id": "iAkU-tZFvRua"
      },
      "execution_count": null,
      "outputs": []
    }
  ]
}