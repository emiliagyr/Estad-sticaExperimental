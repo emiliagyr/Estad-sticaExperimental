{
  "nbformat": 4,
  "nbformat_minor": 0,
  "metadata": {
    "colab": {
      "provenance": [],
      "include_colab_link": true
    },
    "kernelspec": {
      "name": "python3",
      "display_name": "Python 3"
    },
    "language_info": {
      "name": "python"
    }
  },
  "cells": [
    {
      "cell_type": "markdown",
      "metadata": {
        "id": "view-in-github",
        "colab_type": "text"
      },
      "source": [
        "<a href=\"https://colab.research.google.com/github/emiliagyr/EstadisticaExperimental/blob/main/Colab/Comparacionmedias.ipynb\" target=\"_parent\"><img src=\"https://colab.research.google.com/assets/colab-badge.svg\" alt=\"Open In Colab\"/></a>"
      ]
    },
    {
      "cell_type": "code",
      "execution_count": null,
      "metadata": {
        "id": "yedvNeF34CEM"
      },
      "outputs": [],
      "source": [
        "!pip install pingouin\n",
        "!pip install pyreadstat"
      ]
    },
    {
      "cell_type": "code",
      "source": [
        "import pandas as pd\n",
        "import seaborn as sns\n",
        "import pingouin as pg"
      ],
      "metadata": {
        "id": "Y8YXIi8d8p-v"
      },
      "execution_count": null,
      "outputs": []
    },
    {
      "cell_type": "code",
      "source": [
        "# Opcional: si el contenido de las columnas no se muestra completo\n",
        "pd.set_option(\"display.max_columns\", None)"
      ],
      "metadata": {
        "id": "rrztBpr38ru6"
      },
      "execution_count": null,
      "outputs": []
    },
    {
      "cell_type": "code",
      "source": [
        "# dv = variable dependiente\n",
        "# group = niveles de la variable independiente"
      ],
      "metadata": {
        "id": "3a7_TK_F8zFX"
      },
      "execution_count": null,
      "outputs": []
    },
    {
      "cell_type": "markdown",
      "source": [
        "#1. Leer los datos del documento .sav (SPSS) o .csv (Excel)"
      ],
      "metadata": {
        "id": "STWb_sYu85x4"
      }
    },
    {
      "cell_type": "code",
      "source": [
        "df = pd.read_spss(\"SPSS.sav\")\n",
        "df"
      ],
      "metadata": {
        "id": "fyjkad5982Ru"
      },
      "execution_count": null,
      "outputs": []
    },
    {
      "cell_type": "markdown",
      "source": [
        "#2. Estadisticos descriptivos"
      ],
      "metadata": {
        "id": "m-RvFU5p-YPO"
      }
    },
    {
      "cell_type": "code",
      "source": [
        "df.describe()"
      ],
      "metadata": {
        "id": "yKRwjBa4-YPP"
      },
      "execution_count": null,
      "outputs": []
    },
    {
      "cell_type": "markdown",
      "source": [
        "#3. Prueba t para m. independientes"
      ],
      "metadata": {
        "id": "hma_QPmY-aA9"
      }
    },
    {
      "cell_type": "code",
      "source": [
        "# Homogeneidad de varianzas: Sólo para contrastes paramétricos de muestras independientes\n",
        "pg.homoscedasticity(data=df, dv=\"VD\", group=\"GROUP\")"
      ],
      "metadata": {
        "id": "zbYZ_JFBzt98"
      },
      "execution_count": null,
      "outputs": []
    },
    {
      "cell_type": "code",
      "source": [
        "pg.pairwise_tests(\n",
        "    data=df,\n",
        "    dv=\"VD\",\n",
        "    between=\"GROUP\",\n",
        "    effsize=\"cohen\",\n",
        "    correction=False,\n",
        "    alternative=\"less\",\n",
        ")\n",
        "# correction responde a la necesidad de hacer una corrección por varianzas no homogéneas. Por lo tanto, False implica varianzas homogéneas.\n",
        "# Paired True = intrasujeto = within/ Paired False = intersujeto = between\n",
        "# Alternative greater A  >  B / Alternative less A < B / Alternative two-sided A=B"
      ],
      "metadata": {
        "id": "MQTrfmu10QCu"
      },
      "execution_count": null,
      "outputs": []
    },
    {
      "cell_type": "markdown",
      "source": [
        "#4. Prueba t para m. Relacionadas\n",
        "\n"
      ],
      "metadata": {
        "id": "EdCaj1do2zWi"
      }
    },
    {
      "cell_type": "code",
      "source": [
        "pg.ttest(df[\"columna 1\"], df[\"Icolumna 2\"], paired=True)"
      ],
      "metadata": {
        "id": "D-hvNM_6_scN"
      },
      "execution_count": null,
      "outputs": []
    },
    {
      "cell_type": "markdown",
      "source": [
        "#Prueba U de Mann Whitney (independientes)"
      ],
      "metadata": {
        "id": "y_nhCVBV-2kx"
      }
    },
    {
      "cell_type": "code",
      "source": [
        "pg.mwu(df[df[\"Situacion\"] == \"1\"][\"VD\"], df[df[\"Situacion\"] == \"2\"][\"VD\"])"
      ],
      "metadata": {
        "id": "-2406vwx_2Sh"
      },
      "execution_count": null,
      "outputs": []
    },
    {
      "cell_type": "code",
      "source": [
        "# Para comparar las medianas y decidir cual es mayor o menor:\n",
        "\n",
        "df[df[\"Situación\"] == \"1\"][\"VD\"].median()\n",
        "\n",
        "# o\n",
        "\n",
        "df[\"columna1\"].median()"
      ],
      "metadata": {
        "id": "xmqnAEbMNXOt"
      },
      "execution_count": null,
      "outputs": []
    },
    {
      "cell_type": "markdown",
      "source": [
        "En caso quieras analizar una variable independiente en solo un grupo de otra variable independiente:"
      ],
      "metadata": {
        "id": "fe7z0RWzpXKo"
      }
    },
    {
      "cell_type": "code",
      "source": [
        "# Suponiendo que df es tu DataFrame y ya está cargado\n",
        "datos_mujeres = df[df[\"Sexo\"] == \"Femenino\"]\n",
        "\n",
        "# Filtrar datos de mujeres para Situacion 1 y Situacion 2\n",
        "rv_situacion1 = datos_mujeres[datos_mujeres[\"Situacion\"] == \"1\"][\"RV\"]\n",
        "rv_situacion2 = datos_mujeres[datos_mujeres[\"Situacion\"] == \"2\"][\"RV\"]\n",
        "\n",
        "# Realizar la prueba U de Mann-Whitney usando pingouin\n",
        "resultado_mwu = pg.mwu(rv_situacion1, rv_situacion2)"
      ],
      "metadata": {
        "id": "odep4y2ApWDX"
      },
      "execution_count": null,
      "outputs": []
    },
    {
      "cell_type": "markdown",
      "source": [
        "#Prueba de Wilcoxon (relacionadas)"
      ],
      "metadata": {
        "id": "FkZvbRwl-4yQ"
      }
    },
    {
      "cell_type": "code",
      "source": [
        "pg.wilcoxon(df_subsdis[\"1\"], df_subsdis[\"2\"])"
      ],
      "metadata": {
        "id": "_D328rfEAMXR"
      },
      "execution_count": null,
      "outputs": []
    }
  ]
}