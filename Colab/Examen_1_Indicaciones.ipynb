{
  "nbformat": 4,
  "nbformat_minor": 0,
  "metadata": {
    "colab": {
      "provenance": [],
      "authorship_tag": "ABX9TyP+2ZnmeTlhgnUZiqPUt/FB",
      "include_colab_link": true
    },
    "kernelspec": {
      "name": "python3",
      "display_name": "Python 3"
    },
    "language_info": {
      "name": "python"
    }
  },
  "cells": [
    {
      "cell_type": "markdown",
      "metadata": {
        "id": "view-in-github",
        "colab_type": "text"
      },
      "source": [
        "<a href=\"https://colab.research.google.com/github/emiliagyr/EstadisticaExperimental/blob/main/Examen_1_Indicaciones.ipynb\" target=\"_parent\"><img src=\"https://colab.research.google.com/assets/colab-badge.svg\" alt=\"Open In Colab\"/></a>"
      ]
    },
    {
      "cell_type": "markdown",
      "source": [
        "#Indicaciones\n",
        "1. Recuerda seguir los pasos aprendidos en clase, eso incluye la identificación de variables, planteamiento de hipótesis, verificación de supuestos, contraste y conclusión. Así, el puntaje completo se otorga cuando se han contemplado todos estos pasos.\n",
        "2. Procura mantener siempre una redacción clara durante las respuestas, pues sólo con ellas se brindará el puntaje correspondiente.\n",
        "3. Guarda constantemente el archivo en una carpeta segura. Se recomienda usar la siguiente denominación: Examen1_IEE1_ApellidoNombre.\n",
        "4. Lee las indicaciones con detenimiento, de manera que tengas claro cuál es la hipótesis que se busca comprobar."
      ],
      "metadata": {
        "id": "UOgcKrtb6PIS"
      }
    },
    {
      "cell_type": "markdown",
      "source": [
        "#Pregunta 1\n",
        "De acuerdo con estudios previos sobre la administración pública en países de Latinoamérica (Cortés & Boyer, 2018), se sugiere que ostentar posiciones de poder hace que las personas puedan ser más creativas, dado que dichas posiciones harían que las personas estén más dispuestas a romper con las convenciones para lograr los resultados necesarios. En ese sentido, un grupo de investigadores realizaron tres experimentos para identificar si los cambios en los roles asignados, los cuales representan niveles distintos de poder, tienen un impacto en el desempeño de tareas definidas como creativas.\n",
        "\n",
        "En el primer experimento, de manera aleatoria, servidores públicos fueron asignados a una de dos situaciones consideradas de poder. Así, un grupo de los participantes asumió el rol de \"Funcionario Titular\", haciendo referencia a que estos participantes se encontrarían en el rol de liderar instituciones públicas en su país de origen. El otro grupo asumió el rol de \"Servidor operador\", haciendo referencia a los participantes que tendrían roles de implementar políticas o decisiones tomadas por los participantes del otro grupo.\n",
        "\n",
        "Luego de asignar a los participantes en los grupos experimentales, se realizó una actividad para que cada participante se presente frente a los demás, ello con la finalidad de reforzar los roles y la jerarquía existente entre estos. Luego, se le pidió a cada participante que desarrolle ideas para luchar contra la corrupción, bajo la consigna de ser ideas creativas, novedosas y únicas. Así, los participantes debían escribir todas las ideas que sean posibles durante 60 minutos, de manera que a mayor cantidad de palabras que cumplían con las condiciones de ser únicas y creativas, se consideraba mayores niveles de creatividad\n",
        "\n",
        "Durante el experimento, los experimentadores identificaron que posibles variables extrañas afectaron los resultados, como por ejemplo que los participantes se conocieran entre sí, lo cual afectaba las creencias de la jerarquía y roles. Así, los investigadores no estaban seguros de encontrar los mismos los resultados a los hallados en el estudio de Cortés & Boyer (2018). Ante la duda, prefirieron considerar que quienes asumieron el rol de \"Funcionario Titular\" tendrían niveles distintos de creatividad que aquellos con el rol de \"Servidor operador\". Para ello, asumieron que los datos siguen una distribución no simétrica."
      ],
      "metadata": {
        "id": "-ox84fnI6beD"
      }
    },
    {
      "cell_type": "markdown",
      "source": [
        "#Pregunta 2\n",
        "En un experimento posterior, el cual se realizó dos semanas después del primero, los experimentadores consideraron que el haber pasado por los dos experimentos previos tendría un impacto sostenido en la creatividad. Sin embargo, se creía que, a pesar de ello, el impacto sería distinto de acuerdo con la tarea encomendada y que tan próximo sería a las experiencias personales de los participantes.\n",
        "\n",
        "Así, se plantearon dos tareas. En una primera tarea se les pedía a los participantes que generaran ideas para mejorar la administración pública peruana (Herd & Mehta, 2019). Así, se les pidió que escriban tantas ideas creativas como sea posible para mejorar la calidad de la administración de las entidades públicas peruanas. En la segunda tarea, se les solicitó generar ideas para promover la inversión privada (Duguid & Goncalo, 2015). Cabe indicar que se aleatorizó qué tipo de tarea se le pidió primero a cada participante.\n",
        "\n",
        "Los experimentadores creían que, debido a la experiencia previa de los participantes, la tarea vinculada a experiencias personales tendría niveles más altos de creatividad. Así, se pensaba la tarea vinculada a las entidades públicas tendría una mayor cantidad de ideas novedosas y únicas, comparado con la tarea vinculada a la inversión privada. Para comprobarlo, define el supuesto de normalidad empleando pruebas de hipótesis."
      ],
      "metadata": {
        "id": "qDHiBG196kVo"
      }
    },
    {
      "cell_type": "markdown",
      "source": [
        "#Pregunta 3\n",
        "Semanas después del experimento anterior, se buscó explorar una nueva asignación de los roles, con el fin de evaluar si los resultados se replicarían en un contexto distinto. Así, se consideró la disponibilidad de recursos diversos, como los presupuestales, para lograr una adecuada calidad de los servicios de salud mental que se brindan a la ciudadanía. Así, a un grupo de participantes se les asignó el contexto de \"recursos abundantes\"; mientras que el segundo grupo de participantes se les asignó el contexto de \"recursos escasos\".\n",
        "\n",
        "Luego de la asignación aleatoria, a los participantes se les involucró en una tarea de imaginación estructurada, donde se les pidió imaginar que viajaban a un país diferente al Perú y debían decir ideas de cómo mejorar los servicios de salud mental este país (Ward, 1994). Esta tarea tenía como objetivo evaluar en qué medida los participantes pueden superar la restricción cognitiva impuesta por el conocimiento existente (por ejemplo, los problemas en el Perú), y producir un resultado novedoso. Las ideas producidas fueron evaluadas según los criterios de restricción cognitiva definidos por Rodríguez (2022). Así, un puntaje más alto en la escala de restricción cognitiva representaba menores niveles de creatividad.\n",
        "\n",
        "Los experimentadores, que cuidaron más la validez interna del experimento, creían que, en esta oportunidad, sí encontrarían los resultados esperados. Así, creían que quienes tendrían el contexto de \"recursos abundantes\" tendrían niveles mayores de creatividad que quienes tendrían el contexto de \"recursos escasos\". Para analizar la información, primero comprueba el supuesto de normalidad empleando estadísticos de forma."
      ],
      "metadata": {
        "id": "75Q0EXVi6pu-"
      }
    }
  ]
}