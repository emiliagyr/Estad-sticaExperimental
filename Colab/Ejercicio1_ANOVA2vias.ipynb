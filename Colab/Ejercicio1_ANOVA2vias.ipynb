{
  "nbformat": 4,
  "nbformat_minor": 0,
  "metadata": {
    "colab": {
      "provenance": [],
      "authorship_tag": "ABX9TyPeD3CZbZOt+0zSVfjv2gBk",
      "include_colab_link": true
    },
    "kernelspec": {
      "name": "python3",
      "display_name": "Python 3"
    },
    "language_info": {
      "name": "python"
    }
  },
  "cells": [
    {
      "cell_type": "markdown",
      "metadata": {
        "id": "view-in-github",
        "colab_type": "text"
      },
      "source": [
        "<a href=\"https://colab.research.google.com/github/emiliagyr/EstadisticaExperimental/blob/main/Colab/Ejercicio1_ANOVA2vias.ipynb\" target=\"_parent\"><img src=\"https://colab.research.google.com/assets/colab-badge.svg\" alt=\"Open In Colab\"/></a>"
      ]
    },
    {
      "cell_type": "markdown",
      "source": [
        "#Enunciado\n",
        "La especialidad de Psicología se encuentra preocupada por las conductas de riesgo que los jóvenes estudiantes realizan después del evento anual denominado Psicodía. Según información disponible, estas conductas de riesgo se encontrarían relacionadas al tipo de alcohol ingerido durante el evento.\n",
        "De esta forma, se ha planteado realizar un experimento en el cual se ofrecen 5 tipos de bebidas:\n",
        "1. Cerveza\n",
        "2. Chilcano, mezcla de jugo de limón y pisco\n",
        "3. Chicharron, es decir Chicha y Ron\n",
        "4. Sangría, mezcla de jugo y vino\n",
        "5. Cuba libre, mezcla de ron y coca cola.\n",
        "Para realizar el estudio se trabaja con alumnos de los dos primeros ciclos de la carrera: Primer ciclo y Segundo ciclo.\n",
        "Las conductas de riesgo fueron registradas por medio de la escala Heisenberg.\n",
        "Se desea saber si los puntajes en la escala difieren por el tipo de bebida ingerida y el ciclo al que pertenecen los alumnos. Además, se quiere saber si el consumo de chicharrón en alumnos del segundo ciclo genera más conductas de riesgo que el consumo de cerveza en alumnos del primer ciclo."
      ],
      "metadata": {
        "id": "2odFbPIku3UC"
      }
    },
    {
      "cell_type": "code",
      "source": [
        "df = pd.read_spss(\"Psicodía.SAV\")\n",
        "df"
      ],
      "metadata": {
        "id": "iAkU-tZFvRua"
      },
      "execution_count": null,
      "outputs": []
    }
  ]
}