{
  "nbformat": 4,
  "nbformat_minor": 0,
  "metadata": {
    "colab": {
      "provenance": [],
      "authorship_tag": "ABX9TyNRoLiV14fi+vfax6I8Rfaq",
      "include_colab_link": true
    },
    "kernelspec": {
      "name": "python3",
      "display_name": "Python 3"
    },
    "language_info": {
      "name": "python"
    }
  },
  "cells": [
    {
      "cell_type": "markdown",
      "metadata": {
        "id": "view-in-github",
        "colab_type": "text"
      },
      "source": [
        "<a href=\"https://colab.research.google.com/github/emiliagyr/EstadisticaExperimental/blob/main/Colab/Examen_2.ipynb\" target=\"_parent\"><img src=\"https://colab.research.google.com/assets/colab-badge.svg\" alt=\"Open In Colab\"/></a>"
      ]
    },
    {
      "cell_type": "markdown",
      "source": [
        "#Indicaciones\n",
        "1. Recuerda seguir los pasos aprendidos en clase, eso incluye la identificación de variables, planteamiento de hipótesis, verificación de supuestos, contraste y conclusión. Así, el puntaje completo se otorga cuando se han contemplado todos estos pasos.\n",
        "2. Procura mantener siempre una redacción clara durante las respuestas, pues sólo con ellas se brindará el puntaje correspondiente.\n",
        "3. Guarda constantemente el archivo en una carpeta segura. Se recomienda usar la siguiente denominación: Examen1_IEE1_ApellidoNombre.\n",
        "4. Lee las indicaciones con detenimiento, de manera que tengas claro cuál es la hipótesis que se busca comprobar."
      ],
      "metadata": {
        "id": "Q-6tHi_qwWuI"
      }
    },
    {
      "cell_type": "markdown",
      "source": [
        "#Pregunta 1\n",
        "De acuerdo con estudios previos sobre la administración pública en países de Latinoamérica (Cortés & Boyer, 2018), se sugiere que ostentar posiciones de poder hace que las personas puedan ser más creativas, dado que dichas posiciones harían que las personas estén más dispuestas a romper con las convenciones para lograr los resultados necesarios. En ese sentido, un grupo de investigadores realizaron tres experimentos para identificar si los cambios en los roles asignados, los cuales representan niveles distintos de poder, tienen un impacto en el desempeño de tareas definidas como creativas.\n",
        "\n",
        "En el primer experimento, de manera aleatoria, servidores públicos fueron asignados a una de dos situaciones consideradas de poder. Así, un grupo de los participantes asumió el rol de \"Funcionario Titular\", haciendo referencia a que estos participantes se encontrarían en el rol de liderar instituciones públicas en su país de origen. El otro grupo asumió el rol de \"Servidor operador\", haciendo referencia a los participantes que tendrían roles de implementar políticas o decisiones tomadas por los participantes del otro grupo.\n",
        "\n",
        "Luego de asignar a los participantes en los grupos experimentales, se realizó una actividad para que cada participante se presente frente a los demás, ello con la finalidad de reforzar los roles y la jerarquía existente entre estos. Luego, se le pidió a cada participante que desarrolle ideas para luchar contra la corrupción, bajo la consigna de ser ideas creativas, novedosas y únicas. Así, los participantes debían escribir todas las ideas que sean posibles durante 60 minutos, de manera que a mayor cantidad de palabras que cumplían con las condiciones de ser únicas y creativas, se consideraba mayores niveles de creatividad\n",
        "\n",
        "Durante el experimento, los experimentadores identificaron que posibles variables extrañas afectaron los resultados, como por ejemplo que los participantes se conocieran entre sí, lo cual afectaba las creencias de la jerarquía y roles. Así, los investigadores no estaban seguros de encontrar los mismos los resultados a los hallados en el estudio de Cortés & Boyer (2018). Ante la duda, prefirieron considerar que quienes asumieron el rol de \"Funcionario Titular\" tendrían niveles distintos de creatividad que aquellos con el rol de \"Servidor operador\". Para ello, asumieron que los datos siguen una distribución no simétrica."
      ],
      "metadata": {
        "id": "bNdILbHTwZVl"
      }
    },
    {
      "cell_type": "markdown",
      "source": [
        "#Pregunta 2\n",
        "Desde hace algunos años, varios países presentan retrocesos importantes en la promoción de políticas públicas de salud vinculadas a la salud reproductiva. En ese sentido, diversas organizaciones promueven el acceso libre a información y métodos que tengan un efecto protector frente al aumento en la incidencia en el embarazo adolescente y la presencia de enfermedades de transmisión sexual (ETS) en jóvenes.\n",
        "Al respecto, la organización no gubernamental, PROMOSEX, con presencia en distintos países de Latinoamérica, viene realizando análisis sobre las estrategias asumidas por los países para promover el uso de métodos de prevención de enfermedades sexuales. En ese sentido, han realizado seguimiento a distintas estrategias de comunicacionales para identificar tendencias en el contenido de los mensajes y su impacto en el uso de estos métodos. Específicamente, se ha identificado cuatro tendencias en la región:\n",
        "•\tTendencia 1: Uso de mensajes negativos que buscan reforzar emociones negativas hacia las ETS\n",
        "•\tTendencia 2: Uso de mensajes positivos que buscan reforzar emociones positivas hacia la prevención de enfermedades\n",
        "•\tTendencia 3: Sin valoración afectiva, se brinda información racional sobre el impacto de las ETS en la salud individual.\n",
        "•\tTendencia 4: Sin valoración afectiva, se brinda información racional sobre los tipos de métodos anticonceptivos disponibles en el país.\n",
        "Se seleccionaron participantes de los países que usan estos tipos de mensajes, llegando a obtener información de 60 jóvenes. Asimismo, se aplicaron diversas mediciones sobre el impacto de estas.\n",
        "Uno de los aspectos que se desea evaluar son las actitudes hacia métodos que previenen la presencia de ETS. Así, se usó una escala psicométrica cuyos puntajes más altos representan una mayor presencia de positivas hacia los métodos en referencia.\n",
        "La organización sabe que estas actitudes no pueden ser explicadas solo por el efecto de la publicidad estatal, pues asumen que las experiencias personales previas tendrían una repercusión relevante en el desarrollo de conductas de autocuidado. Así, se consideró que los participantes que ya usaban métodos de prevención sexual tendrían niveles distintos de actitudes y, si sumamos el efecto de la publicidad, estas diferencias serían evidentes. Verifica los supuestos requeridos para el análisis, asumiendo"
      ],
      "metadata": {
        "id": "Y9P3a2pywZ7l"
      }
    },
    {
      "cell_type": "markdown",
      "source": [
        "#Pregunta 3\n",
        "De acuerdo con las mediciones más recientes sobre los avances en políticas de desarrollo social, los niveles de pobreza han aumentado en los últimos años. Específicamente, en el año 2023 se han alcanzado resultados que se equiparan a los obtenidos en el año 2020, cuando la pandemia generada por la COVID-19 afectó fuertemente los mismos indicadores. Para revertir las cifras actuales, es necesario enfocar los esfuerzos en generar nuevas estrategias y evaluar los efectos en desarrollo de los niños en edad escolar.\n",
        "En ese contexto, el Ministerio de Educación, en alianza con el Ministerio de Desarrollo e Inclusión Social, vienen evaluando los efectos pobreza en el desarrollo cognitivo de niños del 1er año de primaria en zonas urbanas pobres. Específicamente, se desea conocer el impacto del acceso a herramientas digitales en el desarrollo cognitivo de un grupo de estudiantes de escuelas ubicadas en zonas geográficas definidas urbanas pobres.\n",
        "Frente a ello, se deseó evaluar las plataformas virtuales de mayor uso reportadas por los docentes de primaria como son Kahoot, Khan Academy y Academons. Para ello se diseñó un experimento en el que participaron 90 estudiantes de 1° de primaria. El experimento constó de dos etapas: una primera etapa de familiarización en la cual los participantes realizaron un juego diseñado por los investigadores con el objetivo de poder conocer la herramienta; y una segunda etapa, que consistió realizar 10 ejercicios sobre razonamiento verbal. Los niveles de razonamiento verbal fueron medidos mediante el desempeño en los ejercicios planteados, de manera que un mayor número de respuestas correctas, reflejaban un mayor desempeño.\n",
        "En el programa se valora mucho la información colectada, pero desea tener mayores detalles de un grupo específico de la muestra. Así, se desea poner a prueba que las niñas que participaron del estudio presenten niveles de razonamiento verbal similares, independientemente a la plataforma online que utilizaron. Utilice la base de datos Desarrollo.sav., y asuma que los datos siguen una distribución no normal."
      ],
      "metadata": {
        "id": "Wkt_OUavwcvk"
      }
    }
  ]
}